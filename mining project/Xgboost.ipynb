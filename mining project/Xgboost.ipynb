{
 "cells": [
  {
   "cell_type": "markdown",
   "metadata": {},
   "source": [
    "# **PROJECT:** Performance of Players Analytic for Each Club\n",
    "\n"
   ]
  },
  {
   "cell_type": "code",
   "execution_count": null,
   "metadata": {},
   "outputs": [],
   "source": [
    "import matplotlib.pyplot as plt\n",
    "import pandas as pd\n",
    "import numpy as np"
   ]
  },
  {
   "cell_type": "markdown",
   "metadata": {},
   "source": [
    "# Players"
   ]
  },
  {
   "cell_type": "code",
   "execution_count": null,
   "metadata": {},
   "outputs": [],
   "source": [
    "players = pd.read_csv(\"players.csv\")\n",
    "players"
   ]
  },
  {
   "cell_type": "code",
   "execution_count": null,
   "metadata": {},
   "outputs": [],
   "source": [
    "players_cleaned = players.dropna(subset=['position'])"
   ]
  },
  {
   "cell_type": "code",
   "execution_count": null,
   "metadata": {},
   "outputs": [],
   "source": [
    "# players.info()\n",
    "print(players.isnull().sum())\n",
    "print(players.duplicated().sum())"
   ]
  },
  {
   "cell_type": "code",
   "execution_count": null,
   "metadata": {},
   "outputs": [],
   "source": [
    "players.info()"
   ]
  },
  {
   "cell_type": "code",
   "execution_count": null,
   "metadata": {},
   "outputs": [],
   "source": [
    "players['sub_position'] = players['sub_position'].replace({'Second Striker': 'Striker', 'Centre-Forward': 'Striker'})\n",
    "print(players[['sub_position', 'name']])"
   ]
  },
  {
   "cell_type": "code",
   "execution_count": null,
   "metadata": {},
   "outputs": [],
   "source": [
    "players[\"date_of_birth\"] = players[\"date_of_birth\"].str.split(\" \").str[0]\n"
   ]
  },
  {
   "cell_type": "code",
   "execution_count": null,
   "metadata": {},
   "outputs": [],
   "source": [
    "players['date_of_birth'] = pd.to_datetime(players[\"date_of_birth\"], format=\"%Y-%m-%d\")\n",
    "players.info()"
   ]
  },
  {
   "cell_type": "code",
   "execution_count": null,
   "metadata": {},
   "outputs": [],
   "source": []
  },
  {
   "cell_type": "code",
   "execution_count": null,
   "metadata": {},
   "outputs": [],
   "source": [
    "# Dropping the column\n",
    "players_cleaned = players.drop(columns=['contract_expiration_date','agent_name'])\n",
    "players_cleaned = players_cleaned.dropna()\n",
    "print(players_cleaned.isnull().sum())"
   ]
  },
  {
   "cell_type": "code",
   "execution_count": null,
   "metadata": {},
   "outputs": [],
   "source": [
    "abs(players_cleaned.select_dtypes(exclude='object').corr())"
   ]
  },
  {
   "cell_type": "markdown",
   "metadata": {},
   "source": [
    "# Appearances"
   ]
  },
  {
   "cell_type": "code",
   "execution_count": null,
   "metadata": {},
   "outputs": [],
   "source": [
    "appearances = pd.read_csv(\"appearances.csv\")\n",
    "appearances"
   ]
  },
  {
   "cell_type": "code",
   "execution_count": null,
   "metadata": {},
   "outputs": [],
   "source": [
    "print(appearances.isnull().sum())\n",
    "print(appearances.duplicated().sum())"
   ]
  },
  {
   "cell_type": "code",
   "execution_count": null,
   "metadata": {},
   "outputs": [],
   "source": [
    "# Merge appearances and players DataFrames on player_id\n",
    "merged_df = appearances.merge(players[['player_id', 'name']], how='left', on='player_id')\n",
    "\n",
    "appearances_cleaned = appearances\n",
    "\n",
    "# Fill null values in player_name with the merged values\n",
    "appearances_cleaned['player_name'] = merged_df['name'].fillna(method='ffill')\n",
    "\n",
    "print(appearances_cleaned.isnull().sum())\n",
    "print(appearances_cleaned.duplicated().sum())"
   ]
  },
  {
   "cell_type": "code",
   "execution_count": null,
   "metadata": {},
   "outputs": [],
   "source": [
    "appearances_cleaned['date'] = pd.to_datetime(appearances_cleaned[\"date\"], format=\"%Y-%m-%d\")\n",
    "appearances_cleaned.info()"
   ]
  },
  {
   "cell_type": "code",
   "execution_count": null,
   "metadata": {},
   "outputs": [],
   "source": [
    "total_minutes = appearances.groupby('player_name')['minutes_played'].sum().reset_index()\n",
    "print(total_minutes)"
   ]
  },
  {
   "cell_type": "markdown",
   "metadata": {},
   "source": [
    "**Clubs**"
   ]
  },
  {
   "cell_type": "code",
   "execution_count": null,
   "metadata": {},
   "outputs": [],
   "source": [
    "clubs = pd.read_csv(\"clubs.csv\")\n",
    "clubs"
   ]
  },
  {
   "cell_type": "code",
   "execution_count": null,
   "metadata": {},
   "outputs": [],
   "source": [
    "print(clubs.isnull().sum())\n",
    "print(clubs.duplicated().sum())"
   ]
  },
  {
   "cell_type": "code",
   "execution_count": null,
   "metadata": {},
   "outputs": [],
   "source": [
    "# Dropping the column\n",
    "clubs_cleaned = clubs.drop(columns=['total_market_value','coach_name','stadium_name','stadium_seats'])\n",
    "clubs_cleaned = clubs_cleaned.dropna()\n",
    "print(clubs_cleaned.isnull().sum())"
   ]
  },
  {
   "cell_type": "code",
   "execution_count": null,
   "metadata": {},
   "outputs": [],
   "source": [
    "clubs_features = clubs[clubs['last_season'] >= 2024]"
   ]
  },
  {
   "cell_type": "markdown",
   "metadata": {},
   "source": [
    "**Club Games**"
   ]
  },
  {
   "cell_type": "code",
   "execution_count": null,
   "metadata": {},
   "outputs": [],
   "source": [
    "club_games = pd.read_csv(\"club_games.csv\") #games in 2012 - 2024\n",
    "club_games"
   ]
  },
  {
   "cell_type": "code",
   "execution_count": null,
   "metadata": {},
   "outputs": [],
   "source": [
    "print(club_games.isnull().sum())\n",
    "print(club_games.shape)"
   ]
  },
  {
   "cell_type": "code",
   "execution_count": null,
   "metadata": {},
   "outputs": [],
   "source": [
    "# Dropping the column\n",
    "club_games_cleaned = club_games.drop(columns=['own_position','own_manager_name','opponent_position','opponent_manager_name'])\n",
    "# club_games_cleaned = club_games.dropna()\n",
    "print(club_games_cleaned.isnull().sum())\n",
    "print(club_games_cleaned.shape)"
   ]
  },
  {
   "cell_type": "code",
   "execution_count": null,
   "metadata": {},
   "outputs": [],
   "source": [
    "clubs_games_filter = club_games_cleaned[club_games_cleaned['club_id'].isin(clubs_features.club_id)]\n",
    "clubs_games_filter.shape"
   ]
  },
  {
   "cell_type": "code",
   "execution_count": null,
   "metadata": {},
   "outputs": [],
   "source": [
    "clubs_games_total_win = clubs_games_filter.groupby('club_id')['is_win'].sum()\n",
    "clubs_games_total_win"
   ]
  },
  {
   "cell_type": "code",
   "execution_count": null,
   "metadata": {},
   "outputs": [],
   "source": [
    "clubs_clean_modify = clubs_features.merge(clubs_games_total_win, on='club_id', how='inner')"
   ]
  },
  {
   "cell_type": "code",
   "execution_count": null,
   "metadata": {},
   "outputs": [],
   "source": [
    "clubs_clean_modify.sort_values(by='is_win', ascending=False).head()"
   ]
  },
  {
   "cell_type": "code",
   "execution_count": null,
   "metadata": {},
   "outputs": [],
   "source": [
    "clubs_clean_modify[clubs_clean_modify['domestic_competition_id'] == 'GB1'].sort_values(by='is_win', ascending=False).head(6)"
   ]
  },
  {
   "cell_type": "markdown",
   "metadata": {},
   "source": [
    "# Transfers\n"
   ]
  },
  {
   "cell_type": "code",
   "execution_count": null,
   "metadata": {},
   "outputs": [],
   "source": [
    "transfers = pd.read_csv(\"transfers.csv\")\n",
    "transfers"
   ]
  },
  {
   "cell_type": "code",
   "execution_count": null,
   "metadata": {},
   "outputs": [],
   "source": [
    "transfers_cleaned = transfers['transfer_fee'].dropna()\n",
    "transfers_cleaned = transfers['market_value_in_eur'].dropna()\n"
   ]
  },
  {
   "cell_type": "code",
   "execution_count": null,
   "metadata": {},
   "outputs": [],
   "source": [
    "transfers"
   ]
  },
  {
   "cell_type": "markdown",
   "metadata": {},
   "source": [
    "# Player Valuations\n"
   ]
  },
  {
   "cell_type": "code",
   "execution_count": null,
   "metadata": {},
   "outputs": [],
   "source": [
    "playerVal = pd.read_csv(\"player_valuations.csv\")\n",
    "playerVal"
   ]
  },
  {
   "cell_type": "code",
   "execution_count": null,
   "metadata": {},
   "outputs": [],
   "source": [
    "print(playerVal.isnull().sum())\n",
    "print(playerVal.duplicated().sum())"
   ]
  },
  {
   "cell_type": "code",
   "execution_count": null,
   "metadata": {},
   "outputs": [],
   "source": [
    "playerVal_cleaned = playerVal.dropna()\n",
    "print(playerVal_cleaned.isnull().sum())"
   ]
  },
  {
   "cell_type": "markdown",
   "metadata": {},
   "source": [
    "# Tranfer Efficancy"
   ]
  },
  {
   "cell_type": "code",
   "execution_count": null,
   "metadata": {},
   "outputs": [],
   "source": [
    "transfers['value_to_fee_ratio'] = transfers['market_value_in_eur'] / (transfers['transfer_fee'] + 1)\n",
    "transfers['value_to_fee_ratio'] = transfers['value_to_fee_ratio'].round(3)\n",
    "print(transfers[['player_name', 'market_value_in_eur', 'transfer_fee', 'value_to_fee_ratio']].head())"
   ]
  },
  {
   "cell_type": "markdown",
   "metadata": {},
   "source": [
    "# Minutes Played"
   ]
  },
  {
   "cell_type": "code",
   "execution_count": null,
   "metadata": {},
   "outputs": [],
   "source": [
    "total_minutes_played = appearances.groupby('player_name')['minutes_played'].sum()\n",
    "total_minutes_played\n",
    "\n"
   ]
  },
  {
   "cell_type": "code",
   "execution_count": null,
   "metadata": {},
   "outputs": [],
   "source": [
    "appearances_players = appearances.merge(players[['player_id', 'sub_position']], on='player_id', how='inner')\n"
   ]
  },
  {
   "cell_type": "code",
   "execution_count": null,
   "metadata": {},
   "outputs": [],
   "source": [
    "appearances_players = appearances_players[appearances_players['minutes_played'] > 0]\n",
    "appearances_players['goals_per_90'] = appearances_players['goals'] / (appearances_players['minutes_played'] / 90)\n",
    "\n",
    "cap_lookup = appearances_players.groupby('sub_position')['goals_per_90'].quantile(0.99)\n",
    "\n",
    "appearances_players['goals_per_90'] = appearances_players.apply(\n",
    "    lambda row: min(row['goals_per_90'], cap_lookup.get(row['sub_position'], row['goals_per_90'])),\n",
    "    axis=1\n",
    ")\n"
   ]
  },
  {
   "cell_type": "code",
   "execution_count": null,
   "metadata": {},
   "outputs": [],
   "source": [
    "\n",
    "appearances_players['norm_goals_per_90'] = appearances_players.groupby('sub_position')['goals_per_90'].transform(\n",
    "    lambda x: (x - x.min()) / (x.max() - x.min())\n",
    ")\n",
    "\n",
    "print(appearances_players[['player_name', 'sub_position', 'goals_per_90', 'norm_goals_per_90']].head())\n"
   ]
  },
  {
   "cell_type": "code",
   "execution_count": null,
   "metadata": {},
   "outputs": [],
   "source": [
    "print(appearances_players.loc[appearances_players['player_name'] == 'Marco Reus',\n",
    "      ['sub_position', 'goals_per_90', 'norm_goals_per_90']\n",
    "      ])"
   ]
  },
  {
   "cell_type": "code",
   "execution_count": null,
   "metadata": {},
   "outputs": [],
   "source": [
    "print(appearances_players.loc[appearances_players['sub_position'] == 'Striker',['goals_per_90', 'norm_goals_per_90']].describe())"
   ]
  },
  {
   "cell_type": "code",
   "execution_count": null,
   "metadata": {},
   "outputs": [],
   "source": [
    "appearances_players['assists_per_90'] = appearances_players['assists'] / (appearances_players['minutes_played'] / 90)\n",
    "\n",
    "cap_lookup = appearances_players.groupby('sub_position')['assists_per_90'].quantile(0.99)\n",
    "\n",
    "appearances_players['assists_per_90'] = appearances_players.apply(\n",
    "    lambda row: min(row['assists_per_90'], cap_lookup.get(row['sub_position'], row['assists_per_90'])),\n",
    "    axis=1\n",
    ")\n",
    "\n",
    "\n",
    "appearances_players['norm_assists_per_90'] = appearances_players.groupby('sub_position')['assists_per_90'].transform(\n",
    "    lambda x: (x - x.min()) / (x.max() - x.min())\n",
    ")\n",
    "\n",
    "print(appearances_players[['player_name', 'sub_position', 'assists_per_90', 'norm_assists_per_90']].head())\n"
   ]
  },
  {
   "cell_type": "code",
   "execution_count": null,
   "metadata": {},
   "outputs": [],
   "source": [
    "appearances_players['minutes_played_per_90'] = (appearances_players['minutes_played'] / 90)\n",
    "\n",
    "cap_lookup = appearances_players.groupby('sub_position')['minutes_played_per_90'].quantile(0.99)\n",
    "\n",
    "appearances_players['minutes_played_per_90'] = appearances_players.apply(\n",
    "    lambda row: min(row['minutes_played_per_90'], cap_lookup.get(row['sub_position'], row['minutes_played_per_90'])),\n",
    "    axis=1\n",
    ")\n",
    "\n",
    "\n",
    "appearances_players['norm_minutes_played_per_90'] = appearances_players.groupby('sub_position')['minutes_played_per_90'].transform(\n",
    "    lambda x: (x - x.min()) / (x.max() - x.min())\n",
    ")\n",
    "\n",
    "print(appearances_players[['player_name', 'sub_position', 'minutes_played_per_90', 'norm_minutes_played_per_90']].head())\n"
   ]
  },
  {
   "cell_type": "code",
   "execution_count": null,
   "metadata": {},
   "outputs": [],
   "source": [
    "appearances_players['yellow_card_per_90'] = appearances_players['yellow_cards'] / (appearances_players['minutes_played'] / 90)\n",
    "\n",
    "cap_lookup = appearances_players.groupby('sub_position')['yellow_card_per_90'].quantile(0.99)\n",
    "\n",
    "appearances_players['yellow_card_per_90'] = appearances_players.apply(\n",
    "    lambda row: min(row['yellow_card_per_90'], cap_lookup.get(row['sub_position'], row['yellow_card_per_90'])),\n",
    "    axis=1\n",
    ")\n",
    "\n",
    "\n",
    "appearances_players['norm_yellow_card_per_90'] =1 - appearances_players.groupby('sub_position')['yellow_card_per_90'].transform(\n",
    "    lambda x: (x - x.min()) / (x.max() - x.min())\n",
    ")\n",
    "\n",
    "print(appearances_players[['player_name', 'sub_position', 'yellow_card_per_90', 'norm_yellow_card_per_90']].head())\n"
   ]
  },
  {
   "cell_type": "code",
   "execution_count": null,
   "metadata": {},
   "outputs": [],
   "source": [
    "appearances_players['red_card_per_90'] = appearances_players['red_cards'] / (appearances_players['minutes_played'] / 90)\n",
    "\n",
    "cap_lookup = appearances_players.groupby('sub_position')['red_card_per_90'].quantile(0.99)\n",
    "\n",
    "appearances_players['red_card_per_90'] = appearances_players.apply(\n",
    "    lambda row: min(row['red_card_per_90'], cap_lookup.get(row['sub_position'], row['red_card_per_90'])),\n",
    "    axis=1\n",
    ")\n",
    "\n",
    "\n",
    "appearances_players['norm_red_card_per_90'] =1 - appearances_players.groupby('sub_position')['red_card_per_90'].transform(\n",
    "    lambda x: (x - x.min()) / (x.max() - x.min())\n",
    ")\n",
    "\n",
    "print(appearances_players[['player_name', 'sub_position', 'red_card_per_90', 'norm_red_card_per_90']].head())\n"
   ]
  },
  {
   "cell_type": "code",
   "execution_count": null,
   "metadata": {},
   "outputs": [],
   "source": [
    "print(appearances_players.loc[appearances_players['player_name'] == 'Sergio Ramos',\n",
    "      ['sub_position', 'red_card_per_90', 'norm_red_card_per_90']\n",
    "      ])"
   ]
  },
  {
   "cell_type": "code",
   "execution_count": null,
   "metadata": {},
   "outputs": [],
   "source": [
    "\n",
    "cap_95 = appearances_players.groupby('sub_position')['goals_per_90'].quantile(0.95).to_dict()\n",
    "appearances_players['z_goals_per_90'] = appearances_players.apply(\n",
    "    lambda row: min(row['goals_per_90'], cap_95.get(row['sub_position'], row['goals_per_90'])),\n",
    "    axis=1\n",
    ")\n",
    "cap_95 = appearances_players.groupby('sub_position')['assists_per_90'].quantile(0.95).to_dict()\n",
    "appearances_players['z_assists_per_90'] = appearances_players.apply(\n",
    "    lambda row: min(row['assists_per_90'], cap_95.get(row['sub_position'], row['assists_per_90'])),\n",
    "    axis=1\n",
    ")\n",
    "cap_95 = appearances_players.groupby('sub_position')['minutes_played_per_90'].quantile(0.95).to_dict()\n",
    "appearances_players['z_minutes_played_per_90'] = appearances_players.apply(\n",
    "    lambda row: min(row['minutes_played_per_90'], cap_95.get(row['sub_position'], row['minutes_played_per_90'])),\n",
    "    axis=1\n",
    ")\n",
    "cap_95 = appearances_players.groupby('sub_position')['yellow_card_per_90'].quantile(0.95).to_dict()\n",
    "appearances_players['z_yellow_card_per_90'] = appearances_players.apply(\n",
    "    lambda row: min(row['yellow_card_per_90'], cap_95.get(row['sub_position'], row['yellow_card_per_90'])),\n",
    "    axis=1\n",
    ")\n",
    "cap_95 = appearances_players.groupby('sub_position')['red_card_per_90'].quantile(0.95).to_dict()\n",
    "appearances_players['z_red_card_per_90'] = appearances_players.apply(\n",
    "    lambda row: min(row['red_card_per_90'], cap_95.get(row['sub_position'], row['red_card_per_90'])),\n",
    "    axis=1\n",
    ")\n",
    "\n",
    "print(appearances_players[['player_name', 'sub_position', 'z_goals_per_90', 'z_assists_per_90', 'z_minutes_played_per_90','z_yellow_card_per_90','z_red_card_per_90']].head())"
   ]
  },
  {
   "cell_type": "code",
   "execution_count": null,
   "metadata": {},
   "outputs": [],
   "source": [
    "print(appearances_players.loc[appearances_players['player_name'] == 'Markus Henriksen',\n",
    "      ['sub_position', 'assists', 'norm_assists_per_90']\n",
    "      ])"
   ]
  },
  {
   "cell_type": "code",
   "execution_count": null,
   "metadata": {},
   "outputs": [],
   "source": [
    "# Merge market value based on player_id\n",
    "\n",
    "appearances_players = appearances_players.merge(\n",
    "    players[['player_id', 'market_value_in_eur']],\n",
    "    on='player_id',\n",
    "    how='left'\n",
    ")\n",
    "appearances_players.drop(columns=['market_value_in_eur_x'], inplace=True)\n",
    "appearances_players.rename(columns={'market_value_in_eur_y': 'market_value_in_eur'}, inplace=True)"
   ]
  },
  {
   "cell_type": "code",
   "execution_count": null,
   "metadata": {},
   "outputs": [],
   "source": [
    "z_score_columns = [\n",
    "    'z_goals_per_90', \n",
    "    'z_assists_per_90', \n",
    "    'z_minutes_played_per_90', \n",
    "    'z_yellow_card_per_90', \n",
    "    'z_red_card_per_90'\n",
    "]\n",
    "\n",
    "correlations = {}\n",
    "for col in z_score_columns:\n",
    "    corr = appearances_players[[col, 'market_value_in_eur']].corr().iloc[0,1]\n",
    "    correlations[col] = corr\n",
    "\n",
    "print(\"Raw correlations:\", correlations)\n",
    "\n",
    "\n",
    "\n"
   ]
  },
  {
   "cell_type": "markdown",
   "metadata": {},
   "source": [
    "# Age"
   ]
  },
  {
   "cell_type": "code",
   "execution_count": null,
   "metadata": {},
   "outputs": [],
   "source": [
    "players_cleaned"
   ]
  },
  {
   "cell_type": "code",
   "execution_count": null,
   "metadata": {},
   "outputs": [],
   "source": [
    "players_cleaned['date_of_birth']\n"
   ]
  },
  {
   "cell_type": "code",
   "execution_count": null,
   "metadata": {},
   "outputs": [],
   "source": [
    "appearances_players['date'] = pd.to_datetime(appearances_players['date'])\n",
    "appearances_players['year'] = appearances_players['date'].dt.year\n",
    "match_counts_per_year = appearances_players.groupby(['player_id', 'year']).size()\n",
    "valid_players = match_counts_per_year[match_counts_per_year >= 5].index.get_level_values('player_id')\n",
    "appearances_players = appearances_players[appearances_players['player_id'].isin(valid_players)]\n",
    "\n"
   ]
  },
  {
   "cell_type": "code",
   "execution_count": null,
   "metadata": {},
   "outputs": [],
   "source": [
    "import pandas as pd\n",
    "from datetime import datetime\n",
    "\n",
    "\n",
    "players_cleaned['date_of_birth'] = pd.to_datetime(players_cleaned['date_of_birth'], errors='coerce')\n",
    "\n",
    "reference_year = 2024\n",
    "players_cleaned['age'] = reference_year - players_cleaned['date_of_birth'].dt.year\n",
    "\n",
    "\n",
    "def age_to_score(age):\n",
    "    if pd.isnull(age):\n",
    "        return None\n",
    "    elif age <= 20:\n",
    "        return 0.2\n",
    "    elif 21 <= age <= 24:\n",
    "        return 0.5\n",
    "    elif 25 <= age <= 29:\n",
    "        return 1.0\n",
    "    elif 30 <= age <= 32:\n",
    "        return 0.8\n",
    "    elif 33 <= age <= 35:\n",
    "        return 0.6\n",
    "    else:\n",
    "        return 0.4\n",
    "\n",
    "players_cleaned['age_score'] = players_cleaned['age'].apply(age_to_score)\n",
    "players_cleaned.loc[players_cleaned['name'] == 'Sergio Ramos', \n",
    "                    ['name', 'date_of_birth', 'age_score']]\n"
   ]
  },
  {
   "cell_type": "code",
   "execution_count": null,
   "metadata": {},
   "outputs": [],
   "source": [
    "appearances_players.info()"
   ]
  },
  {
   "cell_type": "code",
   "execution_count": null,
   "metadata": {},
   "outputs": [],
   "source": [
    "appearances_players.loc[:, 'season_year'] = appearances_players['date'].dt.year\n",
    "seasons_per_player = appearances_players.groupby('player_id')['season_year'].nunique().reset_index()\n",
    "seasons_per_player.rename(columns={'season_year': 'num_seasons'}, inplace=True)\n",
    "seasons_per_player['season_norm'] = seasons_per_player['num_seasons'] / seasons_per_player['num_seasons'].max()\n",
    "\n"
   ]
  },
  {
   "cell_type": "code",
   "execution_count": null,
   "metadata": {},
   "outputs": [],
   "source": [
    "print(appearances_players.columns)\n",
    "print(seasons_per_player.columns)\n"
   ]
  },
  {
   "cell_type": "code",
   "execution_count": null,
   "metadata": {},
   "outputs": [],
   "source": [
    "appearances_players = appearances_players.merge(seasons_per_player[['player_id', 'season_norm']], \n",
    "                                                 on='player_id', \n",
    "                                                 how='left')"
   ]
  },
  {
   "cell_type": "code",
   "execution_count": null,
   "metadata": {},
   "outputs": [],
   "source": [
    "appearances_players = appearances_players.merge(\n",
    "    players_cleaned[['player_id', 'age_score']],\n",
    "    on='player_id',\n",
    "    how='left'\n",
    ")"
   ]
  },
  {
   "cell_type": "code",
   "execution_count": null,
   "metadata": {},
   "outputs": [],
   "source": [
    "# คำนวณ total_minutes_played (ผลรวมของ normalized minutes played ต่อผู้เล่น)\n",
    "appearances_players['total_minutes_played'] = appearances_players.groupby('player_id')['minutes_played'].transform('sum')\n"
   ]
  },
  {
   "cell_type": "code",
   "execution_count": null,
   "metadata": {},
   "outputs": [],
   "source": [
    "# คำนวณ total_minutes_played (ผลรวมของ minutes played ต่อผู้เล่น)\n",
    "appearances_players['total_minutes_played'] = appearances_players.groupby('player_id')['minutes_played'].transform('sum')\n",
    "\n",
    "# คำนวณ Min-Max Normalization สำหรับ total_minutes_played\n",
    "total_min = appearances_players['total_minutes_played'].min()\n",
    "total_max = appearances_players['total_minutes_played'].max()\n",
    "\n",
    "appearances_players['norm_total_minutes_played'] = (appearances_players['total_minutes_played'] - total_min) / (total_max - total_min)\n",
    "\n",
    "\n"
   ]
  },
  {
   "cell_type": "code",
   "execution_count": null,
   "metadata": {},
   "outputs": [],
   "source": [
    "for col in ['age_score', 'norm_total_minutes_played', 'season_norm']:\n",
    "    corr = appearances_players[[col, 'market_value_in_eur']].dropna().corr().iloc[0, 1]\n",
    "    print(f\"{col}: {corr}\")\n"
   ]
  },
  {
   "cell_type": "code",
   "execution_count": null,
   "metadata": {},
   "outputs": [],
   "source": [
    "correlations = {\n",
    "    'age_score': 0.05,\n",
    "    'norm_total_minutes_played': 0.12,\n",
    "    'season_norm': 0.08\n",
    "}\n",
    "total = sum(abs(v) for v in correlations.values())\n",
    "weights = {k: abs(v) / total for k, v in correlations.items()}\n"
   ]
  },
  {
   "cell_type": "code",
   "execution_count": null,
   "metadata": {},
   "outputs": [],
   "source": [
    "appearances_players['experience_score'] = (\n",
    "    appearances_players['age_score'] * weights['age_score'] +\n",
    "    appearances_players['norm_total_minutes_played'] * weights['norm_total_minutes_played'] +\n",
    "    appearances_players['season_norm'] * weights['season_norm']\n",
    ")\n"
   ]
  },
  {
   "cell_type": "code",
   "execution_count": null,
   "metadata": {},
   "outputs": [],
   "source": [
    "appearances_players[['player_name', 'age_score', 'norm_total_minutes_played', 'season_norm', 'experience_score']].head()\n"
   ]
  },
  {
   "cell_type": "code",
   "execution_count": null,
   "metadata": {},
   "outputs": [],
   "source": [
    "appearances_players[appearances_players['player_name'] == 'Sander Puri']\n"
   ]
  },
  {
   "cell_type": "code",
   "execution_count": null,
   "metadata": {},
   "outputs": [],
   "source": [
    "print(match_counts_per_year[match_counts_per_year.index.get_level_values('player_id') == 42792])\n"
   ]
  },
  {
   "cell_type": "markdown",
   "metadata": {},
   "source": [
    "# Aggregated Team Level"
   ]
  },
  {
   "cell_type": "code",
   "execution_count": null,
   "metadata": {},
   "outputs": [],
   "source": [
    "Team_Layer = transfers.merge(\n",
    "    players[['player_id', 'country_of_citizenship']],\n",
    "    on='player_id',\n",
    "    how='left'\n",
    ")\n"
   ]
  },
  {
   "cell_type": "code",
   "execution_count": null,
   "metadata": {},
   "outputs": [],
   "source": [
    "Team_Layer = transfers.merge(\n",
    "    players[['player_id', 'date_of_birth' ,'current_club_id','country_of_citizenship']],\n",
    "    on='player_id',\n",
    "    how='left'\n",
    ")"
   ]
  },
  {
   "cell_type": "code",
   "execution_count": null,
   "metadata": {},
   "outputs": [],
   "source": [
    "print(Team_Layer.columns)\n"
   ]
  },
  {
   "cell_type": "code",
   "execution_count": null,
   "metadata": {},
   "outputs": [],
   "source": [
    "print(appearances_players.columns)\n"
   ]
  },
  {
   "cell_type": "code",
   "execution_count": null,
   "metadata": {},
   "outputs": [],
   "source": [
    "Team_Layer = players.merge(\n",
    "    appearances_players[['player_id', 'player_name', 'season_year']],  # ใช้คอลัมน์ที่มีอยู่\n",
    "    on='player_id',\n",
    "    how='left'\n",
    ")"
   ]
  },
  {
   "cell_type": "code",
   "execution_count": null,
   "metadata": {},
   "outputs": [],
   "source": [
    "Team_Layer = players.merge(\n",
    "    appearances_players[['player_id', 'date']],\n",
    "    on='player_id',\n",
    "    how='left'\n",
    ")"
   ]
  },
  {
   "cell_type": "code",
   "execution_count": null,
   "metadata": {},
   "outputs": [],
   "source": [
    "Team_Layer['date'] = pd.to_datetime(Team_Layer['date'])  # แปลงเป็น datetime ก่อนถ้ายังไม่ใช่\n",
    "Team_Layer['season_year'] = Team_Layer['date'].dt.year\n"
   ]
  },
  {
   "cell_type": "code",
   "execution_count": null,
   "metadata": {},
   "outputs": [],
   "source": [
    "team_nationality_diversity = Team_Layer.groupby(['current_club_id', 'season_year'])['country_of_citizenship'].nunique().reset_index()\n",
    "team_nationality_diversity.rename(columns={'country_of_citizenship': 'nationality_diversity'}, inplace=True)\n"
   ]
  },
  {
   "cell_type": "code",
   "execution_count": null,
   "metadata": {},
   "outputs": [],
   "source": []
  },
  {
   "cell_type": "code",
   "execution_count": null,
   "metadata": {},
   "outputs": [],
   "source": [
    "Team_Layer = Team_Layer.merge(\n",
    "    team_nationality_diversity,\n",
    "    on=['current_club_id', 'season_year'],\n",
    "    how='left'\n",
    ")"
   ]
  },
  {
   "cell_type": "code",
   "execution_count": null,
   "metadata": {},
   "outputs": [],
   "source": [
    "\n",
    "\n",
    "# แล้วค่อย merge ใหม่\n",
    "Team_Layer = Team_Layer.merge(\n",
    "    players[['player_id', 'country_of_citizenship', 'current_club_id', 'current_club_name']],\n",
    "    on='player_id',\n",
    "    how='left'\n",
    ")\n",
    "\n",
    "\n",
    "\n"
   ]
  },
  {
   "cell_type": "code",
   "execution_count": null,
   "metadata": {},
   "outputs": [],
   "source": [
    "Team_Layer.info()"
   ]
  },
  {
   "cell_type": "code",
   "execution_count": null,
   "metadata": {},
   "outputs": [],
   "source": [
    "print(Team_Layer.columns)\n"
   ]
  },
  {
   "cell_type": "code",
   "execution_count": null,
   "metadata": {},
   "outputs": [],
   "source": [
    "Team_Layer = Team_Layer.drop(columns=['current_club_id_x', 'current_club_id_y'])\n",
    "\n"
   ]
  },
  {
   "cell_type": "code",
   "execution_count": null,
   "metadata": {},
   "outputs": [],
   "source": [
    "\n",
    "\n",
    "# แล้วค่อย merge ใหม่\n",
    "Team_Layer = Team_Layer.merge(\n",
    "    players[['player_id', 'current_club_name']],\n",
    "    on='player_id',\n",
    "    how='left'\n",
    ")\n"
   ]
  },
  {
   "cell_type": "code",
   "execution_count": null,
   "metadata": {},
   "outputs": [],
   "source": [
    "Team_Layer[['current_club_name', 'name', 'country_of_citizenship_x']].drop_duplicates().head()\n",
    "Team_Layer.rename(columns={'country_of_citizenship_x': 'country_of_citizenship'}, inplace=True)\n",
    "Team_Layer.drop(columns=['country_of_citizenship_y'], inplace=True)\n"
   ]
  },
  {
   "cell_type": "code",
   "execution_count": null,
   "metadata": {},
   "outputs": [],
   "source": [
    "Team_Layer = Team_Layer.merge(\n",
    "    players[['player_id', 'current_club_id']],\n",
    "    on='player_id',\n",
    "    how='left'\n",
    ")\n"
   ]
  },
  {
   "cell_type": "code",
   "execution_count": null,
   "metadata": {},
   "outputs": [],
   "source": [
    "\n",
    "nationality_diversity = (\n",
    "    Team_Layer\n",
    "    .groupby(['current_club_id', 'season_year'])['country_of_citizenship']\n",
    "    .nunique()\n",
    "    .reset_index(name='nationality_diversity')\n",
    ")\n",
    "\n",
    "print(nationality_diversity)\n"
   ]
  },
  {
   "cell_type": "code",
   "execution_count": null,
   "metadata": {},
   "outputs": [],
   "source": [
    "team_diversity = nationality_diversity[nationality_diversity['current_club_id'] == 985]\n",
    "print(team_diversity)\n"
   ]
  },
  {
   "cell_type": "code",
   "execution_count": null,
   "metadata": {},
   "outputs": [],
   "source": [
    "team_diversity = nationality_diversity[nationality_diversity['current_club_id'] == 31]\n",
    "print(team_diversity)\n"
   ]
  },
  {
   "cell_type": "code",
   "execution_count": null,
   "metadata": {},
   "outputs": [],
   "source": [
    "Team_Layer = Team_Layer.merge(\n",
    "    players[['player_id', 'market_value_in_eur']],\n",
    "    on='player_id',\n",
    "    how='left'\n",
    ")"
   ]
  },
  {
   "cell_type": "code",
   "execution_count": null,
   "metadata": {},
   "outputs": [],
   "source": [
    "Team_Layer = Team_Layer.rename(columns={'market_value_in_eur_x': 'market_value_in_eur'})\n",
    "Team_Layer.drop(columns=['market_value_in_eur_y'], inplace=True)"
   ]
  },
  {
   "cell_type": "code",
   "execution_count": null,
   "metadata": {},
   "outputs": [],
   "source": [
    "avg_market_value = (\n",
    "    Team_Layer\n",
    "    .groupby(['current_club_id', 'season_year'])['market_value_in_eur']\n",
    "    .mean()\n",
    "    .reset_index(name='avg_market_value')\n",
    ")\n"
   ]
  },
  {
   "cell_type": "code",
   "execution_count": null,
   "metadata": {},
   "outputs": [],
   "source": [
    "Team_Layer = Team_Layer.merge(\n",
    "    avg_market_value,\n",
    "    on=['current_club_id', 'season_year'],\n",
    "    how='left'\n",
    ")"
   ]
  },
  {
   "cell_type": "code",
   "execution_count": null,
   "metadata": {},
   "outputs": [],
   "source": [
    "appearances_players = appearances_players.merge(\n",
    "    players[['player_id', 'current_club_name', 'country_of_citizenship']],\n",
    "    on='player_id',\n",
    "    how='left'\n",
    ")\n",
    "print(appearances_players[['current_club_name', 'country_of_citizenship']].head())\n"
   ]
  },
  {
   "cell_type": "code",
   "execution_count": null,
   "metadata": {},
   "outputs": [],
   "source": [
    "appearances_players = appearances_players.merge(\n",
    "    avg_market_value,  # <- result from your groupby earlier\n",
    "    left_on=['player_current_club_id', 'season_year'],\n",
    "    right_on=['current_club_id', 'season_year'],\n",
    "    how='left'\n",
    ")\n"
   ]
  },
  {
   "cell_type": "code",
   "execution_count": null,
   "metadata": {},
   "outputs": [],
   "source": [
    "appearances_players[['avg_market_value', 'current_club_name',  'country_of_citizenship']].head()"
   ]
  },
  {
   "cell_type": "code",
   "execution_count": null,
   "metadata": {},
   "outputs": [],
   "source": [
    "print(Team_Layer[Team_Layer['name'] == 'Sander Puri'][['market_value_in_eur', 'name']])"
   ]
  },
  {
   "cell_type": "code",
   "execution_count": null,
   "metadata": {},
   "outputs": [],
   "source": [
    "Team_Layer_players_unique_club = (\n",
    "    Team_Layer[['current_club_name', 'avg_market_value']]\n",
    "    .drop_duplicates(subset='current_club_name')\n",
    "    .sort_values(by='avg_market_value', ascending=False)\n",
    ")\n",
    "\n",
    "print(Team_Layer_players_unique_club.head())\n"
   ]
  },
  {
   "cell_type": "code",
   "execution_count": null,
   "metadata": {},
   "outputs": [],
   "source": [
    "print(\n",
    "    Team_Layer[Team_Layer['season_year'] == 2024]\n",
    "    .drop_duplicates(subset='current_club_name')  \n",
    "    .sort_values(by='avg_market_value', ascending=False) \n",
    "    [['current_club_name', 'avg_market_value']].head(10)\n",
    ")\n"
   ]
  },
  {
   "cell_type": "code",
   "execution_count": null,
   "metadata": {},
   "outputs": [],
   "source": [
    "top5_market_value_teams = (\n",
    "    Team_Layer\n",
    "    .groupby(['season_year', 'current_club_id', 'current_club_name'])['market_value_in_eur']\n",
    "    .sum()\n",
    "    .reset_index(name='total_market_value')\n",
    "    .sort_values(by='total_market_value', ascending=False)\n",
    "    .head(5)\n",
    ")\n",
    "\n",
    "print(top5_market_value_teams)\n",
    "\n"
   ]
  },
  {
   "cell_type": "markdown",
   "metadata": {},
   "source": [
    "Age Mean"
   ]
  },
  {
   "cell_type": "code",
   "execution_count": null,
   "metadata": {},
   "outputs": [],
   "source": [
    "Team_Layer.rename(columns={'date_of_birth_x': 'date_of_birth'}, inplace=True)\n",
    "print(Team_Layer.columns)\n"
   ]
  },
  {
   "cell_type": "code",
   "execution_count": null,
   "metadata": {},
   "outputs": [],
   "source": [
    "\n",
    "Team_Layer = Team_Layer.merge(\n",
    "    players[['player_id', 'date_of_birth']],  \n",
    "    on='player_id',\n",
    "    how='left'\n",
    ")\n",
    "Team_Layer['date_of_birth'] = pd.to_datetime(Team_Layer['date_of_birth'])\n",
    "Team_Layer['age'] = Team_Layer['season_year'] - Team_Layer['date_of_birth'].dt.year\n",
    "Team_Layer[Team_Layer['season_year'] == 2025][['name', 'season_year', 'age']].head()\n"
   ]
  },
  {
   "cell_type": "code",
   "execution_count": null,
   "metadata": {},
   "outputs": [],
   "source": [
    "# คำนวณค่าเฉลี่ยอายุของนักเตะในแต่ละทีม (ตาม current_club_id และ season_year)\n",
    "avg_age_team = Team_Layer.groupby(['current_club_id', 'season_year'])['age'].mean().reset_index(name='avg_age_team')\n",
    "\n",
    "# แสดงผลลัพธ์ของ avg_age_team\n",
    "avg_age_team.head()\n"
   ]
  },
  {
   "cell_type": "code",
   "execution_count": null,
   "metadata": {},
   "outputs": [],
   "source": [
    "\n",
    "Team_Layer = Team_Layer.merge(\n",
    "    avg_age_team, \n",
    "    on=['current_club_id', 'season_year'], \n",
    "    how='left'\n",
    ")\n",
    "\n",
    "\n"
   ]
  },
  {
   "cell_type": "code",
   "execution_count": null,
   "metadata": {},
   "outputs": [],
   "source": [
    "top_clubs_2025 = Team_Layer.groupby(['current_club_name', 'season_year'])['avg_age_team'].mean().reset_index()\n",
    "top_clubs_2025_sorted = top_clubs_2025.sort_values(by='avg_age_team', ascending=False)\n",
    "top_10_clubs_2025 = top_clubs_2025_sorted.head(10)\n",
    "\n",
    "top_10_clubs_2025"
   ]
  },
  {
   "cell_type": "code",
   "execution_count": null,
   "metadata": {},
   "outputs": [],
   "source": [
    "print(Team_Layer.columns)\n"
   ]
  },
  {
   "cell_type": "markdown",
   "metadata": {},
   "source": [
    "Squad_size"
   ]
  },
  {
   "cell_type": "code",
   "execution_count": null,
   "metadata": {},
   "outputs": [],
   "source": [
    "squad_size = players.groupby('current_club_id')['player_id'].nunique().reset_index()\n",
    "squad_size.columns = ['current_club_id' , 'squad_size']\n",
    "\n",
    "\n",
    "squad_size"
   ]
  },
  {
   "cell_type": "markdown",
   "metadata": {},
   "source": [
    "num_player_transferred"
   ]
  },
  {
   "cell_type": "code",
   "execution_count": null,
   "metadata": {},
   "outputs": [],
   "source": [
    "num_player_transferred = transfers.groupby(['to_club_id', 'transfer_date'])['player_id'].count().reset_index()\n",
    "num_player_transferred.columns = ['current_club_id', 'season', 'num_player_transferred']\n",
    "\n",
    "num_player_transferred"
   ]
  },
  {
   "cell_type": "markdown",
   "metadata": {},
   "source": [
    "goal_different"
   ]
  },
  {
   "cell_type": "code",
   "execution_count": null,
   "metadata": {},
   "outputs": [],
   "source": [
    "games = pd.read_csv('games.csv')"
   ]
  },
  {
   "cell_type": "code",
   "execution_count": null,
   "metadata": {},
   "outputs": [],
   "source": [
    "print(games.isnull().sum())\n",
    "print(games.shape)\n"
   ]
  },
  {
   "cell_type": "code",
   "execution_count": null,
   "metadata": {},
   "outputs": [],
   "source": [
    "games = games.drop(columns=['home_club_position','home_club_position','home_club_formation','away_club_formation','attendance','home_club_name','away_club_name'])\n",
    "games = games.dropna()\n",
    "print(games.isnull().sum())\n",
    "print(games.shape)"
   ]
  },
  {
   "cell_type": "code",
   "execution_count": null,
   "metadata": {},
   "outputs": [],
   "source": [
    "#home goal\n",
    "home_goal_diff_df = (\n",
    "    games.assign(goal_diff=games['home_club_goals'] - games['away_club_goals'])\n",
    "    .groupby('home_club_id')['goal_diff']\n",
    "    .mean()\n",
    "    .reset_index(name='home_goal_diff')\n",
    "    .rename(columns={'home_club_id': 'club_id'})\n",
    ")\n",
    "home_goal_diff_df\n"
   ]
  },
  {
   "cell_type": "code",
   "execution_count": null,
   "metadata": {},
   "outputs": [],
   "source": [
    "#away goal\n",
    "away_goal_diff_df = (\n",
    "    games.assign(goal_diff=games['away_club_goals'] - games['home_club_goals'])\n",
    "    .groupby('away_club_id')['goal_diff']\n",
    "    .mean()\n",
    "    .reset_index(name='away_goal_diff')\n",
    "    .rename(columns={'away_club_id': 'club_id'})\n",
    ")\n",
    "away_goal_diff_df\n"
   ]
  },
  {
   "cell_type": "code",
   "execution_count": null,
   "metadata": {},
   "outputs": [],
   "source": [
    "correlation_weights = {\n",
    "    'z_goals_per_90': 0.0701,\n",
    "    'z_assists_per_90': 0.0499,\n",
    "    'z_minutes_played_per_90': 0.0175,\n",
    "    'z_yellow_card_per_90': -0.0119,\n",
    "    'z_red_card_per_90': -0.0004\n",
    "}\n",
    "\n",
    "total_weight = sum(abs(v) for v in correlation_weights.values())\n",
    "normalized_weights = {k: v / total_weight for k, v in correlation_weights.items()}\n"
   ]
  },
  {
   "cell_type": "code",
   "execution_count": null,
   "metadata": {},
   "outputs": [],
   "source": [
    "appearances_players['performance_score'] = (\n",
    "    appearances_players['z_goals_per_90'] * normalized_weights['z_goals_per_90'] +\n",
    "    appearances_players['z_assists_per_90'] * normalized_weights['z_assists_per_90'] +\n",
    "    appearances_players['z_minutes_played_per_90'] * normalized_weights['z_minutes_played_per_90'] +\n",
    "    appearances_players['z_yellow_card_per_90'] * normalized_weights['z_yellow_card_per_90'] +\n",
    "    appearances_players['z_red_card_per_90'] * normalized_weights['z_red_card_per_90']\n",
    ")\n"
   ]
  },
  {
   "cell_type": "code",
   "execution_count": null,
   "metadata": {},
   "outputs": [],
   "source": [
    "appearances_players[['player_name', 'sub_position', 'performance_score']].head()\n"
   ]
  },
  {
   "cell_type": "code",
   "execution_count": null,
   "metadata": {},
   "outputs": [],
   "source": [
    "avg_perf_df = (\n",
    "    appearances_players\n",
    "    .groupby(['player_current_club_id', 'season_year'])['performance_score']\n",
    "    .mean()\n",
    "    .reset_index(name='avg_performance_score')\n",
    ")\n",
    "\n",
    "# Rename to match Team_Layer's club column\n",
    "avg_perf_df.rename(columns={'player_current_club_id': 'current_club_id'}, inplace=True)\n",
    "\n",
    "# Merge into Team_Layer\n",
    "Team_Layer = Team_Layer.merge(avg_perf_df, on=['current_club_id', 'season_year'], how='left')\n"
   ]
  },
  {
   "cell_type": "code",
   "execution_count": null,
   "metadata": {},
   "outputs": [],
   "source": [
    "# 1. Group by team and season, compute mean experience score\n",
    "avg_exp_df = (\n",
    "    appearances_players\n",
    "    .groupby(['player_current_club_id', 'season_year'])['experience_score']\n",
    "    .mean()\n",
    "    .reset_index(name='avg_experience_score')\n",
    ")\n",
    "\n",
    "# 2. Rename to match team layer structure\n",
    "avg_exp_df.rename(columns={'player_current_club_id': 'current_club_id'}, inplace=True)\n",
    "\n",
    "# 3. Merge into Team_Layer\n",
    "Team_Layer = Team_Layer.merge(avg_exp_df, on=['current_club_id', 'season_year'], how='left')\n"
   ]
  },
  {
   "cell_type": "code",
   "execution_count": null,
   "metadata": {},
   "outputs": [],
   "source": [
    "Team_Layer.head()"
   ]
  },
  {
   "cell_type": "markdown",
   "metadata": {},
   "source": [
    "result ,score/goal difference"
   ]
  },
  {
   "cell_type": "code",
   "execution_count": null,
   "metadata": {},
   "outputs": [],
   "source": [
    "\n",
    "home_df = games[['game_id', 'date', 'season', 'home_club_id', 'home_club_goals', 'away_club_goals']].copy()\n",
    "home_df['club_id'] = home_df['home_club_id']\n",
    "home_df['goals_for'] = home_df['home_club_goals']\n",
    "home_df['goals_against'] = home_df['away_club_goals']\n",
    "home_df['is_home'] = 1\n",
    "\n",
    "\n",
    "away_df = games[['game_id', 'date', 'season', 'away_club_id', 'away_club_goals', 'home_club_goals']].copy()\n",
    "away_df['club_id'] = away_df['away_club_id']\n",
    "away_df['goals_for'] = away_df['away_club_goals']\n",
    "away_df['goals_against'] = away_df['home_club_goals']\n",
    "away_df['is_home'] = 0\n",
    "\n",
    "\n",
    "club_games = pd.concat([home_df, away_df], ignore_index=True)\n",
    "\n",
    "\n",
    "club_games = club_games[['game_id', 'club_id', 'date', 'season', 'goals_for', 'goals_against', 'is_home']]\n"
   ]
  },
  {
   "cell_type": "code",
   "execution_count": null,
   "metadata": {},
   "outputs": [],
   "source": [
    "def get_result(row):\n",
    "    if row['goals_for'] > row['goals_against']:\n",
    "        return 3\n",
    "    elif row['goals_for'] == row['goals_against']:\n",
    "        return 1\n",
    "    else:\n",
    "        return 0\n",
    "\n",
    "club_games['result_score'] = club_games.apply(get_result, axis=1)\n",
    "\n",
    "\n",
    "club_games['goal_diff'] = club_games['goals_for'] - club_games['goals_against']\n"
   ]
  },
  {
   "cell_type": "code",
   "execution_count": null,
   "metadata": {},
   "outputs": [],
   "source": [
    "k = 5  # Window size\n",
    "\n",
    "club_games = club_games.sort_values(by=['club_id', 'date'])\n",
    "\n",
    "club_games['form_score'] = (\n",
    "    club_games\n",
    "    .groupby('club_id')['result_score']\n",
    "    .transform(lambda x: x.rolling(window=k, min_periods=1).sum())\n",
    ")\n",
    "\n",
    "club_games['goal_diff_recent'] = (\n",
    "    club_games\n",
    "    .groupby('club_id')['goal_diff']\n",
    "    .transform(lambda x: x.rolling(window=k, min_periods=1).mean())\n",
    ")\n"
   ]
  },
  {
   "cell_type": "code",
   "execution_count": null,
   "metadata": {},
   "outputs": [],
   "source": [
    "games.columns"
   ]
  },
  {
   "cell_type": "markdown",
   "metadata": {},
   "source": [
    "# Player Performance"
   ]
  },
  {
   "cell_type": "code",
   "execution_count": null,
   "metadata": {},
   "outputs": [],
   "source": [
    "appearances_player_goal = appearances.groupby('player_id')['goals'].sum().sort_values(ascending=False)\n",
    "appearances_player_goal.head()"
   ]
  },
  {
   "cell_type": "code",
   "execution_count": null,
   "metadata": {},
   "outputs": [],
   "source": [
    "players_performance = players.merge(appearances_player_goal, on='player_id', how='inner')\n",
    "players_performance['total_goals'] = players_performance['goals']\n",
    "players_performance.drop('goals',axis=1)\n",
    "players_performance"
   ]
  },
  {
   "cell_type": "code",
   "execution_count": null,
   "metadata": {},
   "outputs": [],
   "source": [
    "players_performance.sort_values(by='total_goals', ascending=False).head()"
   ]
  },
  {
   "cell_type": "markdown",
   "metadata": {},
   "source": [
    "# Goals Player"
   ]
  },
  {
   "cell_type": "code",
   "execution_count": null,
   "metadata": {},
   "outputs": [],
   "source": [
    "Team_Layer.columns"
   ]
  },
  {
   "cell_type": "code",
   "execution_count": null,
   "metadata": {},
   "outputs": [],
   "source": [
    "appearances_players.rename(columns={'country_of_citizenship': 'national'}, inplace=True)\n",
    "Team_Layer.rename(columns={'country_of_citizenship': 'national'}, inplace=True)\n",
    "Team_Layer.rename(columns={'name': 'player_name'}, inplace=True)"
   ]
  },
  {
   "cell_type": "code",
   "execution_count": null,
   "metadata": {},
   "outputs": [],
   "source": [
    "Team_Layer.columns"
   ]
  },
  {
   "cell_type": "code",
   "execution_count": null,
   "metadata": {},
   "outputs": [],
   "source": [
    "appearances_players = appearances_players[['appearance_id', 'game_id', 'player_id',\n",
    "       'player_current_club_id', 'date', 'player_name','sub_position',\n",
    "       'z_goals_per_90', 'z_assists_per_90', 'z_minutes_played_per_90',\n",
    "       'z_yellow_card_per_90', 'z_red_card_per_90', 'market_value_in_eur',\n",
    "       'season_year', 'season_norm', 'age_score',\n",
    "       'norm_total_minutes_played', 'experience_score',\n",
    "       'current_club_name', 'national',\n",
    "       'avg_market_value', 'performance_score']]\n",
    "Team_Layer = Team_Layer[\n",
    "    ['player_id','player_name','national','sub_position','position',\n",
    "        'current_club_name','market_value_in_eur','season_year', \n",
    "        'nationality_diversity','player_current_club_id',\n",
    "       'avg_market_value', 'date_of_birth', 'age', 'avg_age_team',\n",
    "       'avg_performance_score', 'avg_experience_score']]"
   ]
  },
  {
   "cell_type": "code",
   "execution_count": null,
   "metadata": {},
   "outputs": [],
   "source": [
    "appearances_players = appearances_players[appearances_players['season_year'] >= 2022]"
   ]
  },
  {
   "cell_type": "code",
   "execution_count": null,
   "metadata": {},
   "outputs": [],
   "source": [
    "appearances_players.memory_usage(deep=True).sum() / 1024**2\n",
    "\n"
   ]
  },
  {
   "cell_type": "code",
   "execution_count": null,
   "metadata": {},
   "outputs": [],
   "source": [
    "Team_Layer.memory_usage(deep=True).sum() / 1024**2"
   ]
  },
  {
   "cell_type": "code",
   "execution_count": null,
   "metadata": {},
   "outputs": [],
   "source": [
    "\n",
    "appearances_players.to_csv('E:/mining project/appearances_players.csv', index=False)\n",
    "Team_Layer.to_csv('E:/mining project/Team_Layer.csv', index=False)\n"
   ]
  },
  {
   "cell_type": "code",
   "execution_count": null,
   "metadata": {},
   "outputs": [],
   "source": [
    "!pip install xgboost"
   ]
  },
  {
   "cell_type": "markdown",
   "metadata": {},
   "source": [
    "tarket = แบ่งคลาส\n"
   ]
  },
  {
   "cell_type": "markdown",
   "metadata": {},
   "source": [
    "# XGBoost"
   ]
  },
  {
   "cell_type": "code",
   "execution_count": 32,
   "metadata": {},
   "outputs": [],
   "source": [
    "import pandas as pd\n",
    "import numpy as np\n",
    "from sklearn.model_selection import train_test_split\n",
    "from xgboost import XGBClassifier, plot_importance\n",
    "from sklearn.metrics import classification_report, confusion_matrix\n",
    "import matplotlib.pyplot as plt\n",
    "import seaborn as sns"
   ]
  },
  {
   "cell_type": "code",
   "execution_count": 33,
   "metadata": {},
   "outputs": [],
   "source": [
    "# STEP 2: LOAD YOUR DATA\n",
    "appearances_players = pd.read_csv(\"appearances_players.csv\")\n",
    "team_layer = pd.read_csv(\"Team_Layer.csv\")\n"
   ]
  },
  {
   "cell_type": "code",
   "execution_count": 34,
   "metadata": {},
   "outputs": [],
   "source": [
    "threshold_goals = appearances_players['z_goals_per_90'].median()\n",
    "\n",
    "appearances_players['performance_class'] = (\n",
    "    appearances_players['z_goals_per_90'] > threshold_goals\n",
    ").astype(int)\n"
   ]
  },
  {
   "cell_type": "code",
   "execution_count": 35,
   "metadata": {},
   "outputs": [
    {
     "name": "stderr",
     "output_type": "stream",
     "text": [
      "e:\\Anaconda\\Lib\\site-packages\\xgboost\\training.py:183: UserWarning: [19:55:50] WARNING: C:\\actions-runner\\_work\\xgboost\\xgboost\\src\\learner.cc:738: \n",
      "Parameters: { \"use_label_encoder\" } are not used.\n",
      "\n",
      "  bst.update(dtrain, iteration=i, fobj=obj)\n"
     ]
    },
    {
     "name": "stdout",
     "output_type": "stream",
     "text": [
      "              precision    recall  f1-score   support\n",
      "\n",
      "           0       1.00      1.00      1.00     85731\n",
      "           1       1.00      1.00      1.00      6212\n",
      "\n",
      "    accuracy                           1.00     91943\n",
      "   macro avg       1.00      1.00      1.00     91943\n",
      "weighted avg       1.00      1.00      1.00     91943\n",
      "\n"
     ]
    }
   ],
   "source": [
    "features = [\n",
    "    'z_goals_per_90', 'z_assists_per_90', 'z_minutes_played_per_90',\n",
    "    'z_yellow_card_per_90', 'z_red_card_per_90',\n",
    "    'market_value_in_eur', 'season_norm', 'age_score',\n",
    "    'norm_total_minutes_played', 'experience_score'\n",
    "]\n",
    "\n",
    "X = appearances_players[features]\n",
    "y = appearances_players['performance_class']\n",
    "\n",
    "from sklearn.model_selection import train_test_split\n",
    "from xgboost import XGBClassifier\n",
    "from sklearn.metrics import classification_report\n",
    "\n",
    "X_train, X_test, y_train, y_test = train_test_split(X, y, stratify=y, test_size=0.2)\n",
    "\n",
    "model = XGBClassifier(use_label_encoder=False, eval_metric='mlogloss')\n",
    "model.fit(X_train, y_train)\n",
    "\n",
    "y_pred = model.predict(X_test)\n",
    "print(classification_report(y_test, y_pred))\n"
   ]
  },
  {
   "cell_type": "code",
   "execution_count": 40,
   "metadata": {},
   "outputs": [
    {
     "data": {
      "image/png": "[encoded data removed]",
      "text/plain": [
       "<Figure size 640x480 with 1 Axes>"
      ]
     },
     "metadata": {},
     "output_type": "display_data"
    }
   ],
   "source": [
    "from sklearn.metrics import roc_curve, auc, RocCurveDisplay\n",
    "import matplotlib.pyplot as plt\n",
    "\n",
    "# ทำนายความน่าจะเป็น (probabilities)\n",
    "y_proba = model.predict_proba(X_test)[:, 1]  # ใช้เฉพาะความน่าจะเป็นของ class 1\n",
    "\n",
    "# คำนวณ fpr, tpr, thresholds สำหรับ ROC\n",
    "fpr, tpr, thresholds = roc_curve(y_test, y_proba)\n",
    "\n",
    "# คำนวณค่า AUC\n",
    "roc_auc = auc(fpr, tpr)\n",
    "\n",
    "# แสดงผล ROC Curve\n",
    "plt.figure()\n",
    "plt.plot(fpr, tpr, color='darkorange', lw=2, label=f'ROC curve (AUC = {roc_auc:.2f})')\n",
    "plt.plot([0, 1], [0, 1], color='navy', lw=2, linestyle='--')  # เส้นทำนายแบบสุ่ม\n",
    "plt.xlim([0.0, 1.0])\n",
    "plt.ylim([0.0, 1.05])\n",
    "plt.xlabel('False Positive Rate')\n",
    "plt.ylabel('True Positive Rate')\n",
    "plt.title('Receiver Operating Characteristic (ROC) Curve')\n",
    "plt.legend(loc='lower right')\n",
    "plt.grid(True)\n",
    "plt.show()"
   ]
  },
  {
   "cell_type": "code",
   "execution_count": 46,
   "metadata": {},
   "outputs": [
    {
     "name": "stdout",
     "output_type": "stream",
     "text": [
      "performance_class\n",
      "B    252608\n",
      "C    153257\n",
      "A     53847\n",
      "Name: count, dtype: int64\n"
     ]
    }
   ],
   "source": [
    "print(appearances_players['performance_class'].value_counts())\n"
   ]
  },
  {
   "cell_type": "code",
   "execution_count": null,
   "metadata": {},
   "outputs": [
    {
     "name": "stderr",
     "output_type": "stream",
     "text": [
      "e:\\Anaconda\\Lib\\site-packages\\xgboost\\training.py:183: UserWarning: [19:57:33] WARNING: C:\\actions-runner\\_work\\xgboost\\xgboost\\src\\learner.cc:738: \n",
      "Parameters: { \"use_label_encoder\" } are not used.\n",
      "\n",
      "  bst.update(dtrain, iteration=i, fobj=obj)\n"
     ]
    },
    {
     "name": "stdout",
     "output_type": "stream",
     "text": [
      "=== Classification Report (Test Set) ===\n",
      "              precision    recall  f1-score   support\n",
      "\n",
      "           A       0.98      0.51      0.67     10769\n",
      "           B       0.93      1.00      0.96     50522\n",
      "           C       0.95      1.00      0.98     30652\n",
      "\n",
      "    accuracy                           0.94     91943\n",
      "   macro avg       0.95      0.83      0.87     91943\n",
      "weighted avg       0.94      0.94      0.93     91943\n",
      "\n"
     ]
    }
   ],
   "source": [
    "import pandas as pd\n",
    "from sklearn.model_selection import train_test_split, cross_val_predict\n",
    "from sklearn.preprocessing import LabelEncoder\n",
    "from sklearn.metrics import classification_report\n",
    "from xgboost import XGBClassifier\n",
    "\n",
    "# แบ่ง performance_score ออกเป็น 3 กลุ่ม: C (ต่ำ), B (กลาง), A (สูง)\n",
    "appearances_players['performance_class'] = pd.qcut(\n",
    "    appearances_players['performance_score'],\n",
    "    q=3,\n",
    "    labels=['C', 'B', 'A']\n",
    ")\n",
    "\n",
    "# เลือกฟีเจอร์ที่ใช้\n",
    "features = [\n",
    "    'z_assists_per_90', 'z_minutes_played_per_90', 'z_yellow_card_per_90',\n",
    "    'z_red_card_per_90', 'market_value_in_eur', 'season_norm', 'age_score',\n",
    "    'norm_total_minutes_played', 'experience_score'\n",
    "]\n",
    "\n",
    "X = appearances_players[features]\n",
    "y = appearances_players['performance_class']\n",
    "\n",
    "# แปลง label 'A', 'B', 'C' เป็นตัวเลข 0, 1, 2\n",
    "le = LabelEncoder()\n",
    "y_encoded = le.fit_transform(y)\n",
    "\n",
    "# แบ่ง train-test set\n",
    "X_train, X_test, y_train, y_test = train_test_split(X, y_encoded, stratify=y_encoded, test_size=0.2)\n",
    "\n",
    "# สร้างโมเดล XGBoost\n",
    "model = XGBClassifier(\n",
    "    use_label_encoder=False,\n",
    "    eval_metric='mlogloss',\n",
    "    objective='multi:softmax',\n",
    "    num_class=3\n",
    ")\n",
    "\n",
    "# ฝึกโมเดล\n",
    "model.fit(X_train, y_train)\n",
    "\n",
    "# ทำนายผล\n",
    "y_pred = model.predict(X_test)\n",
    "\n",
    "\n",
    "print(\"=== Classification Report (Test Set) ===\")\n",
    "print(classification_report(le.inverse_transform(y_test), le.inverse_transform(y_pred)))\n",
    "\n",
    "\n"
   ]
  },
  {
   "cell_type": "code",
   "execution_count": 82,
   "metadata": {},
   "outputs": [],
   "source": [
    "# สร้างคลาส performance_class แบบกำหนดเอง\n",
    "def classify_performance(row, thresholds):\n",
    "    if row['performance_score'] < 0:\n",
    "        return 'C'\n",
    "    elif row['avg_performance_score'] <= thresholds[0]:\n",
    "        return 'C'\n",
    "    elif row['avg_performance_score'] <= thresholds[1]:\n",
    "        return 'B'\n",
    "    else:\n",
    "        return 'A'\n",
    "\n",
    "# กำหนด threshold ของ avg_performance_score\n",
    "q1 = team_layer['avg_performance_score'].quantile(1/3)\n",
    "q2 = team_layer['avg_performance_score'].quantile(2/3)\n",
    "\n",
    "# ใช้ฟังก์ชัน classify_performance เพื่อสร้างคอลัมน์ใหม่\n",
    "team_layer['performance_class'] = team_layer.apply(\n",
    "    lambda row: classify_performance(row, (q1, q2)), axis=1\n",
    ")\n",
    "\n",
    "# แปลง performance_class ให้เป็น string ชัดเจน (กันชนิด float ปะปน)\n",
    "team_layer['performance_class'] = team_layer['performance_class'].astype(str)"
   ]
  },
  {
   "cell_type": "code",
   "execution_count": 84,
   "metadata": {},
   "outputs": [
    {
     "name": "stderr",
     "output_type": "stream",
     "text": [
      "e:\\Anaconda\\Lib\\site-packages\\xgboost\\training.py:183: UserWarning: [20:59:02] WARNING: C:\\actions-runner\\_work\\xgboost\\xgboost\\src\\learner.cc:738: \n",
      "Parameters: { \"use_label_encoder\" } are not used.\n",
      "\n",
      "  bst.update(dtrain, iteration=i, fobj=obj)\n"
     ]
    },
    {
     "name": "stdout",
     "output_type": "stream",
     "text": [
      "=== Classification Report (Test Set) ===\n",
      "              precision    recall  f1-score   support\n",
      "\n",
      "           A       0.98      0.98      0.98    115119\n",
      "           B       0.97      0.97      0.97    112663\n",
      "           C       0.97      0.97      0.97    113265\n",
      "\n",
      "    accuracy                           0.97    341047\n",
      "   macro avg       0.97      0.97      0.97    341047\n",
      "weighted avg       0.97      0.97      0.97    341047\n",
      "\n"
     ]
    }
   ],
   "source": [
    "import pandas as pd\n",
    "from sklearn.model_selection import train_test_split\n",
    "from sklearn.preprocessing import LabelEncoder\n",
    "from sklearn.metrics import classification_report\n",
    "from xgboost import XGBClassifier\n",
    "\n",
    "\n",
    "\n",
    "# เลือกฟีเจอร์ที่ใช้\n",
    "features = [\n",
    "    'market_value_in_eur', 'season_year', 'nationality_diversity', \n",
    "    'avg_market_value', 'avg_age_team',  \n",
    "    'avg_experience_score'\n",
    "]\n",
    "\n",
    "X = team_layer[features]\n",
    "y = team_layer['performance_class']\n",
    "\n",
    "# แปลง label 'A', 'B', 'C' เป็นตัวเลข\n",
    "le = LabelEncoder()\n",
    "y_encoded = le.fit_transform(y)\n",
    "\n",
    "# แบ่งข้อมูลเป็น train-test set\n",
    "X_train, X_test, y_train, y_test = train_test_split(X, y_encoded, stratify=y_encoded, test_size=0.2)\n",
    "\n",
    "# สร้างโมเดล XGBoost\n",
    "model = XGBClassifier(\n",
    "    use_label_encoder=False,\n",
    "    eval_metric='mlogloss',\n",
    "    objective='multi:softmax',\n",
    "    num_class=3\n",
    ")\n",
    "\n",
    "# ฝึกโมเดล\n",
    "model.fit(X_train, y_train)\n",
    "\n",
    "# ทำนายผล\n",
    "y_pred = model.predict(X_test)\n",
    "\n",
    "# แปลงผลกลับเป็น label string\n",
    "y_test_labels = le.inverse_transform(y_test)\n",
    "y_pred_labels = le.inverse_transform(y_pred)\n",
    "\n",
    "# แสดงผล\n",
    "print(\"=== Classification Report (Test Set) ===\")\n",
    "print(classification_report(y_test_labels, y_pred_labels))\n"
   ]
  }
 ],
 "metadata": {
  "kernelspec": {
   "display_name": "base",
   "language": "python",
   "name": "python3"
  },
  "language_info": {
   "codemirror_mode": {
    "name": "ipython",
    "version": 3
   },
   "file_extension": ".py",
   "mimetype": "text/x-python",
   "name": "python",
   "nbconvert_exporter": "python",
   "pygments_lexer": "ipython3",
   "version": "3.12.7"
  }
 },
 "nbformat": 4,
 "nbformat_minor": 2
}
